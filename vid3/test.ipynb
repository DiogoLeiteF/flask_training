{
 "cells": [
  {
   "cell_type": "code",
   "execution_count": 1,
   "metadata": {},
   "outputs": [],
   "source": [
    "import requests\n",
    "import random\n",
    "\n",
    "base = \"http://127.0.0.1:5000/\""
   ]
  },
  {
   "cell_type": "code",
   "execution_count": 4,
   "metadata": {},
   "outputs": [
    {
     "name": "stdout",
     "output_type": "stream",
     "text": [
      "201\n",
      "{'id': 3, 'message': 'Room room created.'}\n"
     ]
    }
   ],
   "source": [
    "response = requests.post(base + 'api/room', json={\"name\": \"room\"})\n",
    "\n",
    "print(response.status_code)\n",
    "print(response.json())"
   ]
  },
  {
   "cell_type": "code",
   "execution_count": 5,
   "metadata": {},
   "outputs": [
    {
     "name": "stdout",
     "output_type": "stream",
     "text": [
      "201\n",
      "{'message': 'Temperature added.'}\n",
      "201\n",
      "{'message': 'Temperature added.'}\n",
      "201\n",
      "{'message': 'Temperature added.'}\n",
      "201\n",
      "{'message': 'Temperature added.'}\n",
      "201\n",
      "{'message': 'Temperature added.'}\n",
      "201\n",
      "{'message': 'Temperature added.'}\n",
      "201\n",
      "{'message': 'Temperature added.'}\n",
      "201\n",
      "{'message': 'Temperature added.'}\n",
      "201\n",
      "{'message': 'Temperature added.'}\n",
      "201\n",
      "{'message': 'Temperature added.'}\n"
     ]
    }
   ],
   "source": [
    "for i in range(10):\n",
    "    response = requests.post(base + \"api/temperature\", json={'temperature': random.randint(7, 20), 'room': random.randint(1,3)})\n",
    "\n",
    "    print(response.status_code)\n",
    "    print(response.json())"
   ]
  },
  {
   "cell_type": "code",
   "execution_count": 6,
   "metadata": {},
   "outputs": [
    {
     "name": "stdout",
     "output_type": "stream",
     "text": [
      "200\n",
      "{'average': 13.78, 'days': 1}\n"
     ]
    }
   ],
   "source": [
    "response = requests.get(base + \"api/average\")\n",
    "\n",
    "print(response.status_code)\n",
    "print(response.json())"
   ]
  },
  {
   "cell_type": "code",
   "execution_count": 7,
   "metadata": {},
   "outputs": [
    {
     "name": "stdout",
     "output_type": "stream",
     "text": [
      "200\n",
      "{'average': 13.71, 'days': 1, 'name': 'living room'}\n",
      "200\n",
      "{'average': 14.67, 'days': 1, 'name': 'kitchen'}\n",
      "200\n",
      "{'average': 12.33, 'days': 1, 'name': 'room'}\n"
     ]
    }
   ],
   "source": [
    "response = requests.get(base + \"api/room/1\")\n",
    "print(response.status_code)\n",
    "print(response.json())\n",
    "\n",
    "response = requests.get(base + \"api/room/2\")\n",
    "print(response.status_code)\n",
    "print(response.json())\n",
    "\n",
    "response = requests.get(base + \"api/room/3\")\n",
    "print(response.status_code)\n",
    "print(response.json())"
   ]
  }
 ],
 "metadata": {
  "kernelspec": {
   "display_name": "base",
   "language": "python",
   "name": "python3"
  },
  "language_info": {
   "codemirror_mode": {
    "name": "ipython",
    "version": 3
   },
   "file_extension": ".py",
   "mimetype": "text/x-python",
   "name": "python",
   "nbconvert_exporter": "python",
   "pygments_lexer": "ipython3",
   "version": "3.9.13"
  },
  "orig_nbformat": 4
 },
 "nbformat": 4,
 "nbformat_minor": 2
}
