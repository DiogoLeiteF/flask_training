{
 "cells": [
  {
   "cell_type": "code",
   "execution_count": 2,
   "metadata": {},
   "outputs": [],
   "source": [
    "import requests\n"
   ]
  },
  {
   "cell_type": "code",
   "execution_count": 4,
   "metadata": {},
   "outputs": [],
   "source": [
    "BASE = \"http://127.0.0.1:5000/\""
   ]
  },
  {
   "cell_type": "code",
   "execution_count": 13,
   "metadata": {},
   "outputs": [
    {
     "data": {
      "text/plain": [
       "{'age': 25, 'gender': 'femnale'}"
      ]
     },
     "execution_count": 13,
     "metadata": {},
     "output_type": "execute_result"
    }
   ],
   "source": [
    "response = requests.get(BASE + \"helloworld/ana\")\n",
    "\n",
    "response.json()"
   ]
  },
  {
   "cell_type": "code",
   "execution_count": 15,
   "metadata": {},
   "outputs": [
    {
     "name": "stdout",
     "output_type": "stream",
     "text": [
      "{'name': 'tim', 'views': 20, 'likes': 10}\n",
      "{'name': 'tim', 'views': 20, 'likes': 10}\n"
     ]
    }
   ],
   "source": [
    "response = requests.put(BASE + \"video/1\", {'likes': 10, \"name\" :\"tim\", \"views\":20})\n",
    "print(response.json())\n",
    "input()\n",
    "response = requests.get(BASE + \"video/1\")\n",
    "print(response.json())\n",
    "\n"
   ]
  },
  {
   "cell_type": "code",
   "execution_count": 19,
   "metadata": {},
   "outputs": [
    {
     "name": "stdout",
     "output_type": "stream",
     "text": [
      "{'message': 'video id not valid'}\n"
     ]
    }
   ],
   "source": [
    "response = requests.get(BASE + \"video/3\")\n",
    "print(response.json())"
   ]
  },
  {
   "cell_type": "code",
   "execution_count": 32,
   "metadata": {},
   "outputs": [
    {
     "name": "stdout",
     "output_type": "stream",
     "text": [
      "{'id': 0, 'name': 'tim', 'views': 120, 'likes': 130}\n",
      "{'message': 'video id taken...'}\n",
      "{'message': 'video id taken...'}\n"
     ]
    }
   ],
   "source": [
    "data = [\n",
    "    {'name': 'tim', 'views': 120, 'likes': 130},\n",
    "    {'name': 'joe', 'views': 200, 'likes': 110},\n",
    "    {'name': 'ana', 'views': 10, 'likes': 410}\n",
    "]\n",
    "\n",
    "for i in range(len(data)):\n",
    "    response = requests.put(f\"{BASE}video/{i}\", data[i])\n",
    "    print(response.json())\n"
   ]
  },
  {
   "cell_type": "code",
   "execution_count": 33,
   "metadata": {},
   "outputs": [
    {
     "name": "stdout",
     "output_type": "stream",
     "text": [
      "{'id': 0, 'name': 'tim', 'views': 120, 'likes': 130}\n",
      "<Response [204]>\n",
      "{'message': 'video not found...'}\n",
      "<Response [404]>\n"
     ]
    }
   ],
   "source": [
    "response = requests.get(f\"{BASE}video/0\")\n",
    "print(response.json())\n",
    "\n",
    "response = requests.delete(f\"{BASE}video/0\")\n",
    "print(response) # 204 deleted\n",
    "\n",
    "response = requests.get(f\"{BASE}video/0\")\n",
    "print(response.json())\n",
    "\n",
    "response = requests.delete(f\"{BASE}video/0\")\n",
    "print(response) # 404 not found\n"
   ]
  },
  {
   "cell_type": "code",
   "execution_count": 34,
   "metadata": {},
   "outputs": [
    {
     "name": "stdout",
     "output_type": "stream",
     "text": [
      "{'id': 2, 'name': 'ana', 'views': 10, 'likes': 410}\n",
      "{'id': 2, 'name': 'ana', 'views': 10, 'likes': 999}\n"
     ]
    }
   ],
   "source": [
    "response = requests.get(f\"{BASE}video/2\")\n",
    "print(response.json())\n",
    "\n",
    "response = requests.patch(f\"{BASE}video/2\", {\"likes\": 999})\n",
    "print(response.json())"
   ]
  }
 ],
 "metadata": {
  "kernelspec": {
   "display_name": "base",
   "language": "python",
   "name": "python3"
  },
  "language_info": {
   "codemirror_mode": {
    "name": "ipython",
    "version": 3
   },
   "file_extension": ".py",
   "mimetype": "text/x-python",
   "name": "python",
   "nbconvert_exporter": "python",
   "pygments_lexer": "ipython3",
   "version": "3.9.13"
  },
  "orig_nbformat": 4
 },
 "nbformat": 4,
 "nbformat_minor": 2
}
