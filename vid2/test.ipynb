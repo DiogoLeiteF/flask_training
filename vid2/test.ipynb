{
 "cells": [
  {
   "cell_type": "code",
   "execution_count": 1,
   "metadata": {},
   "outputs": [],
   "source": [
    "import requests\n",
    "\n",
    "base = \"http://127.0.0.1:5000/\""
   ]
  },
  {
   "cell_type": "code",
   "execution_count": 6,
   "metadata": {},
   "outputs": [
    {
     "name": "stdout",
     "output_type": "stream",
     "text": [
      "^!AU23iM27\n"
     ]
    }
   ],
   "source": [
    "from faker import Faker\n",
    "\n",
    "fake = Faker()\n",
    "\n",
    "name = fake.name()\n",
    "password = fake.password()\n",
    "name.split()[0]\n",
    "print(password)"
   ]
  },
  {
   "cell_type": "code",
   "execution_count": 15,
   "metadata": {},
   "outputs": [
    {
     "name": "stdout",
     "output_type": "stream",
     "text": [
      "{'message': 'New user created'}\n"
     ]
    }
   ],
   "source": [
    "response = requests.post(base + \"user\", json={'name': fake.first_name(), 'password': \"12345\" })\n",
    "\n",
    "print(response.json())"
   ]
  },
  {
   "cell_type": "code",
   "execution_count": 23,
   "metadata": {},
   "outputs": [
    {
     "name": "stdout",
     "output_type": "stream",
     "text": [
      "{'users': [{'admin': True, 'name': 'Admin', 'password': 'sha256$tcnvjsSL$f92c0b3001200f5b404d52837a0b46296e4596d9f88e781d0d05ebbba0de5fa9', 'public_id': 'bc967746-1b17-4b39-b9c5-aba0b2cb785d'}, {'admin': False, 'name': 'Admin', 'password': 'sha256$PP2LGk2h$e5367d23cffe72d1de2777dce36d4db325c79be2ae3ce70752e558d2ad98231a', 'public_id': 'a34d5e87-145c-4cf3-8d8e-a01ad4875163'}, {'admin': False, 'name': 'Admin', 'password': 'sha256$mHzL1jQ3$2f02147da27804308236a8c2b8a2a07d4787a605d933d1b3545e1ab957f7ccbe', 'public_id': '4b6f4eb1-f408-4988-82c6-db8c41382633'}, {'admin': False, 'name': 'Katherine', 'password': 'sha256$Tj5LbUm9$4f47f7980a07ad661ef271398a38803f147a9053d3f4091f1ff0c77a30fdcd08', 'public_id': '73576477-a0af-4e8f-ab80-4b564a2e04e9'}, {'admin': False, 'name': 'Karla', 'password': 'sha256$qdvjR29x$048ec8a7991e09f29abf131d310ac3fb10992fc98354d326d7ebe199c61b1883', 'public_id': '5a1c1534-824e-4f40-83b7-2f247e05547b'}, {'admin': False, 'name': 'Sonya', 'password': 'sha256$hl5wVq1B$efbf84ec9dc4faad7114e632685abf7ad9cd55358e174293d9208a6f4bc25d35', 'public_id': 'b3d5ed7f-8605-40bf-aa95-90072869808d'}]}\n",
      "Admin True bc967746-1b17-4b39-b9c5-aba0b2cb785d\n",
      "Admin False a34d5e87-145c-4cf3-8d8e-a01ad4875163\n",
      "Admin False 4b6f4eb1-f408-4988-82c6-db8c41382633\n",
      "Katherine False 73576477-a0af-4e8f-ab80-4b564a2e04e9\n",
      "Karla False 5a1c1534-824e-4f40-83b7-2f247e05547b\n",
      "Sonya False b3d5ed7f-8605-40bf-aa95-90072869808d\n"
     ]
    }
   ],
   "source": [
    "response = requests.get(f\"{base}user\")\n",
    "\n",
    "print(response.json())\n",
    "\n",
    "for user in response.json()['users']:\n",
    "    print(user['name'], user['admin'], user['public_id'])\n"
   ]
  },
  {
   "cell_type": "code",
   "execution_count": 9,
   "metadata": {},
   "outputs": [
    {
     "name": "stdout",
     "output_type": "stream",
     "text": [
      "{'user': {'admin': False, 'name': 'Admin', 'password': 'sha256$tcnvjsSL$f92c0b3001200f5b404d52837a0b46296e4596d9f88e781d0d05ebbba0de5fa9', 'public_id': 'bc967746-1b17-4b39-b9c5-aba0b2cb785d'}}\n"
     ]
    }
   ],
   "source": [
    "response = requests.get(base + 'user/bc967746-1b17-4b39-b9c5-aba0b2cb785d')\n",
    "\n",
    "print(response.json())"
   ]
  },
  {
   "cell_type": "code",
   "execution_count": 11,
   "metadata": {},
   "outputs": [
    {
     "name": "stdout",
     "output_type": "stream",
     "text": [
      "{'user Admin': 'as been promoted'}\n",
      "{'user': {'admin': True, 'name': 'Admin', 'password': 'sha256$tcnvjsSL$f92c0b3001200f5b404d52837a0b46296e4596d9f88e781d0d05ebbba0de5fa9', 'public_id': 'bc967746-1b17-4b39-b9c5-aba0b2cb785d'}}\n"
     ]
    }
   ],
   "source": [
    "response = requests.put(base + 'user/bc967746-1b17-4b39-b9c5-aba0b2cb785d')\n",
    "print(response.json())\n",
    "\n",
    "response = requests.get(base + 'user/bc967746-1b17-4b39-b9c5-aba0b2cb785d')\n",
    "print(response.json())"
   ]
  },
  {
   "cell_type": "code",
   "execution_count": 24,
   "metadata": {},
   "outputs": [
    {
     "name": "stdout",
     "output_type": "stream",
     "text": [
      "{'message': 'No user found'}\n"
     ]
    }
   ],
   "source": [
    "response = requests.delete(base + 'user/a2b75d7a-3076-4c3d-bb5e-dd2dd9978cac')\n",
    "print(response.json())\n"
   ]
  }
 ],
 "metadata": {
  "kernelspec": {
   "display_name": "base",
   "language": "python",
   "name": "python3"
  },
  "language_info": {
   "codemirror_mode": {
    "name": "ipython",
    "version": 3
   },
   "file_extension": ".py",
   "mimetype": "text/x-python",
   "name": "python",
   "nbconvert_exporter": "python",
   "pygments_lexer": "ipython3",
   "version": "3.9.13"
  },
  "orig_nbformat": 4
 },
 "nbformat": 4,
 "nbformat_minor": 2
}
