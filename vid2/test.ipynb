{
 "cells": [
  {
   "cell_type": "code",
   "execution_count": 2,
   "metadata": {},
   "outputs": [],
   "source": [
    "import requests\n",
    "\n",
    "base = \"http://127.0.0.1:5000/\""
   ]
  },
  {
   "cell_type": "code",
   "execution_count": 24,
   "metadata": {},
   "outputs": [
    {
     "name": "stdout",
     "output_type": "stream",
     "text": [
      "{'message': 'New user created'}\n"
     ]
    }
   ],
   "source": [
    "response = requests.post(base + \"user\", json={'name': \"Admin\", 'password': \"12345\" })\n",
    "\n",
    "print(response.json())"
   ]
  },
  {
   "cell_type": "code",
   "execution_count": 28,
   "metadata": {},
   "outputs": [
    {
     "name": "stdout",
     "output_type": "stream",
     "text": [
      "{'users': [{'admin': False, 'name': 'Admin', 'password': 'sha256$tcnvjsSL$f92c0b3001200f5b404d52837a0b46296e4596d9f88e781d0d05ebbba0de5fa9', 'public_id': 'bc967746-1b17-4b39-b9c5-aba0b2cb785d'}, {'admin': False, 'name': 'Admin', 'password': 'sha256$PP2LGk2h$e5367d23cffe72d1de2777dce36d4db325c79be2ae3ce70752e558d2ad98231a', 'public_id': 'a34d5e87-145c-4cf3-8d8e-a01ad4875163'}, {'admin': False, 'name': 'Admin', 'password': 'sha256$mHzL1jQ3$2f02147da27804308236a8c2b8a2a07d4787a605d933d1b3545e1ab957f7ccbe', 'public_id': '4b6f4eb1-f408-4988-82c6-db8c41382633'}]}\n"
     ]
    }
   ],
   "source": [
    "response = requests.get(f\"{base}user\")\n",
    "\n",
    "print(response.json())\n"
   ]
  }
 ],
 "metadata": {
  "kernelspec": {
   "display_name": "base",
   "language": "python",
   "name": "python3"
  },
  "language_info": {
   "codemirror_mode": {
    "name": "ipython",
    "version": 3
   },
   "file_extension": ".py",
   "mimetype": "text/x-python",
   "name": "python",
   "nbconvert_exporter": "python",
   "pygments_lexer": "ipython3",
   "version": "3.9.13"
  },
  "orig_nbformat": 4
 },
 "nbformat": 4,
 "nbformat_minor": 2
}
